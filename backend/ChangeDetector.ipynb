{
 "cells": [
  {
   "cell_type": "code",
   "execution_count": 38,
   "metadata": {
    "ExecuteTime": {
     "end_time": "2019-04-13T08:07:29.567795Z",
     "start_time": "2019-04-13T08:07:29.562378Z"
    }
   },
   "outputs": [],
   "source": [
    "#  Change detect type\n",
    "# input: nPosts\n",
    "\n",
    "import difflib\n",
    "import sys\n",
    "import re\n",
    "import nltk"
   ]
  },
  {
   "cell_type": "code",
   "execution_count": 83,
   "metadata": {
    "ExecuteTime": {
     "end_time": "2019-04-13T08:45:19.009944Z",
     "start_time": "2019-04-13T08:45:19.005484Z"
    }
   },
   "outputs": [],
   "source": [
    "d0 = '\\\n",
    "# Section0\\n\\\n",
    "A example sentence that is embedded. The embedding is compared withanother\\n\\\n",
    "# Section1'\n",
    "\n",
    "# Edit of §0\n",
    "d1 = '\\\n",
    "# Section0\\n\\\n",
    "<del>A example sentence that is embedded. The embedding is compared withanother</del><ins>Faselbla</ins>\\n\\\n",
    "# Section1'\n",
    "\n",
    "# Edit of §1 (small)\n",
    "d2 = '\\\n",
    "# Section0\\n\\\n",
    "Faselbla\\n\\\n",
    "# Section1\\n\\\n",
    "<ins>wort wort wort wort</ins>\\n'\n",
    "\n",
    "# Edit of §1, triggers commit of POST d1\n",
    "d3 = '\\\n",
    "# Section0\\n\\\n",
    "Faselbla\\n\\\n",
    "# Section1\\n\\\n",
    "wort wort wort wort<ins>wort wort</ins>\\n'\n",
    "\n",
    "# Edit of §1 (small), triggers commit of POST d3\n",
    "d4 = '\\\n",
    "# Section0<ins>adas</ins>\\n\\\n",
    "Faselbla\\n\\\n",
    "# Section1\\n\\\n",
    "wort wort wort wort wort wort'\n",
    "\n",
    "# Edit of §1\n",
    "d5 = '\\\n",
    "# Section0<ins>wort wort wort wort</ins>\\n\\\n",
    "Faselbla\\n\\\n",
    "# Section1\\n\\\n",
    "wort wort wort wort wort wort'\n",
    "\n",
    "# Adding a paragraph\n",
    "d6 = '\\\n",
    "# Section0\\n\\\n",
    "Faselbla\\n\\\n",
    "# Section1\\n\\\n",
    "wort wort wort wort wort wort\\n\\\n",
    "<ins> # Section2 Hallo I bims </ins>'\n",
    "\n",
    "# Edit of §1 (small), triggers commit of POST d6\n",
    "d7 = '\\\n",
    "# Section0<ins>adas</ins>\\n\\\n",
    "Faselbla\\n\\\n",
    "# Section1\\n\\\n",
    "wort wort wort wort wort wort\\n\\\n",
    "# Section2 Hallo I bims'\n",
    "\n",
    "d = [d1, d2, d3, d4, d5, d6, d7]"
   ]
  },
  {
   "cell_type": "code",
   "execution_count": 87,
   "metadata": {
    "ExecuteTime": {
     "end_time": "2019-04-13T08:47:17.610214Z",
     "start_time": "2019-04-13T08:47:17.606248Z"
    }
   },
   "outputs": [],
   "source": [
    "t1 = '\\\n",
    "# The Black Hole\\n\\\n",
    "A black hole is a region of spacetime exhibiting such strong gravitational effects that nothing—not even particles and <del>electrmoagnetic</del> <ins>electromagnetic</ins> radiation such as light—can escape from inside it. The <del>tehory</del> <ins>theory</ins> of general relativity predicts that a sufficiently compact mass can deform spacetime to form a black hole. (Source: wikipedia)\\n\\\n",
    "\\n\\\n",
    "# Inception\\'s Depiction Of A Black Hole\\n\\\n",
    "Kip Thorne is an astrophysicist; his math guided the creation of <del>the mesmareizing</del> <ins>this mesmerizing</ins> visual <del>effect in the movie Interstellar,</del> <ins>effect,</ins> the most <del>acurat</del> <ins>accurate</ins> simulation ever of what a black hole would look like. It\\'s the product of a year of work by 30 people and thousands of computers. (Source: wired)'\n",
    "\n",
    "t2 = '\\\n",
    "# The Black Hole\\n\\\n",
    "A black hole is a region of spacetime exhibiting such strong gravitational effects that nothing—not even particles and electromagnetic radiation such as light—can escape from inside it. The theory of general relativity predicts that a sufficiently compact mass can deform spacetime to form a black hole. (Source: wikipedia)\\n\\\n",
    "\\n\\\n",
    "# Inception\\'s Depiction Of A Black Hole\\n\\\n",
    "Kip Thorne is an astrophysicist; his math guided the creation of this mesmerizing visual effect, the most accurate simulation ever of what a black hole would look like. It\\'s the product of a year of work by 30 people and thousands of computers. (Source: wired)\\n\\\n",
    "\\n\\\n",
    "<ins># The First Picture Of A Black Hole</ins>\\n\\\n",
    "<ins>Katie Bouman led development of a computer program that made the breakthrough image possible.</ins>\\n\\\n",
    "<ins>The remarkable photo, showing a halo of dust and gas 500 million trillion km from Earth, was released on Wednesday. For Dr Bouman, its creation was the realization of an endeavor previously thought impossible. (Source: bbc)</ins>'\n",
    "\n",
    "\n",
    "t3 = '\\\n",
    "# The Black Hole\\n\\\n",
    "A black hole is a region of spacetime exhibiting such strong gravitational effects that nothing—not even particles and electromagnetic radiation such as light—can escape from inside it. The theory of general relativity predicts that a sufficiently compact mass can deform spacetime to form a black hole. (Source: wikipedia)\\n\\\n",
    "\\n\\\n",
    "# Inception\\'s Depiction Of A Black Hole\\n\\\n",
    "Kip Thorne <del>is an astrophysicist; his math guided the creation of this mesmerizing</del>  <ins>made some cool but wrong</ins> visual <del>effect, the most accurate simulation ever of what a black hole would look like. It\\'s the product of a year of work by 30 people and thousands of computers. (Source: wired)</del> <ins>effects.</ins>\\n\\\n",
    "\\n\\\n",
    "# The First Picture Of A Black Hole\\n\\\n",
    "Katie Bouman led development of a computer program that made the breakthrough image possible.\\n\\\n",
    "The remarkable photo, showing a halo of dust and gas 500 million trillion km from Earth, was released on Wednesday. <del>For Dr Bouman, its creation was the realization of an endeavor previously thought impossible.</del> (Source: bbc)'\n",
    "\n",
    "d = [t1, t2, t3]"
   ]
  },
  {
   "cell_type": "code",
   "execution_count": 40,
   "metadata": {
    "ExecuteTime": {
     "end_time": "2019-04-13T08:07:30.594426Z",
     "start_time": "2019-04-13T08:07:30.587328Z"
    }
   },
   "outputs": [],
   "source": [
    "def count_changes(difference):\n",
    "    # Takes difference from wdiffhtml as input\n",
    "    # Returns total number of changes in words\n",
    "    dif = difference.splitlines()\n",
    "    num_changes = 0\n",
    "    for line in dif:\n",
    "        if '<ins>' in line:\n",
    "            word_list = nltk.word_tokenize(\n",
    "                line[re.search('<ins>', line).end():re.search('</ins>', line).start()])\n",
    "            num_changes += len(word_list)\n",
    "        if '<del>' in line:\n",
    "            word_list = nltk.word_tokenize(\n",
    "                line[re.search('<del>', line).end():re.search('</del>', line).start()])\n",
    "            num_changes += len(word_list)\n",
    "    return num_changes"
   ]
  },
  {
   "cell_type": "code",
   "execution_count": 41,
   "metadata": {
    "ExecuteTime": {
     "end_time": "2019-04-13T08:07:31.029302Z",
     "start_time": "2019-04-13T08:07:31.016404Z"
    }
   },
   "outputs": [],
   "source": [
    "def which_paragraph_changed(text):\n",
    "    list_of_paragraphs = re.findall(r\"[^#]+\", text)\n",
    "    has_changes = [_check_if_has_diff(paragraph) for paragraph in list_of_paragraphs]\n",
    "    #print(has_changes)\n",
    "    return has_changes\n",
    "\n",
    "def _check_if_has_diff(text):\n",
    "    diff_tokens = [\"<ins>\", \"<del>\"]\n",
    "    return any(diff_token in text for diff_token in diff_tokens)"
   ]
  },
  {
   "cell_type": "code",
   "execution_count": 106,
   "metadata": {
    "ExecuteTime": {
     "end_time": "2019-04-13T09:01:37.542742Z",
     "start_time": "2019-04-13T09:01:37.528863Z"
    }
   },
   "outputs": [
    {
     "name": "stdout",
     "output_type": "stream",
     "text": [
      "POST  0  added  6  words in § 0\n",
      "POST  1  added  67  words in § 1\n",
      "You should commit POST  0  as: Edit of §  0\n",
      "POST  2  added  100  words in § 1\n",
      "You should commit POST  1  as: Add a §\n"
     ]
    }
   ],
   "source": [
    "paragraph_treshold = 5  # at least this many word changes have to be added/deleted in a paragraph to qualify for a paragraph commit\n",
    "# POSTs without changes are discarded (assumption) so I assume every POST here has actual changes\n",
    "\n",
    "scope_hist = []  # record scopes aka edited paragraphs of a POST\n",
    "count_hist = []  # record count of words added/deleted by a POST\n",
    "post_id_hist = []\n",
    "paragraph_added_hist = []\n",
    "posts_waiting = False  # are posts queued for a commit?\n",
    "scope_switched = False  # did the scope switch since the last POST?\n",
    "num_of_paragraphs = 0\n",
    "for k, difference in enumerate(d):\n",
    "    # Check scopes\n",
    "    changes = which_paragraph_changed(difference)\n",
    "    scope = np.arange(len(changes))[changes] if changes is not None else []\n",
    "    #scope_hist.append(scope)\n",
    "    scope_hist.append(tuple(scope))\n",
    "    post_id_hist.append(k)\n",
    "    single_scope = len(scope == 1)  # only POSTs that change a single Scope can be \"§ edit\" commits\n",
    "    if len(scope_hist) > 1:\n",
    "        scope_switched = (scope==scope_hist[-1])\n",
    "        posts_waiting = True\n",
    "    else:\n",
    "        scope_switched = False\n",
    "    \n",
    "    count_hist.append(count_changes(difference))\n",
    "    \n",
    "    # Check if § was added TODO\n",
    "    paragraph_added = (len(changes) - num_of_paragraphs) > 0 if k!=0 else False\n",
    "    num_of_paragraphs = len(changes)\n",
    "    paragraph_added_hist.append(paragraph_added)\n",
    "    \n",
    "    # Do commit\n",
    "    # TODO COMMIT and delete corresponding histories\n",
    "    # find out which POSTs to commit\n",
    "    if single_scope:\n",
    "        current_scope = scope\n",
    "        words_changed = 0\n",
    "        for i in reversed(range(len(scope_hist))):\n",
    "            if all(scope_hist[i] != current_scope):#scope_hist[i] != current_scope:\n",
    "                break\n",
    "            else:\n",
    "                words_changed += count_hist[i]\n",
    "        print('POST ', k, ' added ',words_changed, ' words in §', scope[0])\n",
    "    \n",
    "    # Check if we qualified for a commit, then commit waiting POSTs (if there are POSTs waiting for commit)\n",
    "    if posts_waiting and (words_changed >= paragraph_treshold): # then we made enough changes to qualify for a paragraph commit\n",
    "        print('You should commit POST ', post_id_hist[i], ' as: ', end='')\n",
    "        if any(paragraph_added_hist[:i+1]):\n",
    "            print('Add a §')\n",
    "        elif len(list(set(scope_hist[:i+1]))) > 1:\n",
    "            print(scope_hist[:i+1], len(np.unique(scope_hist[:i+1])))\n",
    "            print('small changes')\n",
    "        else:\n",
    "            print('Edit of § ', scope_hist[0][0])\n",
    "        posts_waiting = False  # We commited all waiting POSTs in the queue\n",
    "        \n",
    "        # Clear POST history\n",
    "        del(post_id_hist[:i+1])\n",
    "        del(scope_hist[:i+1])\n",
    "        del(count_hist[:i+1])\n",
    "        del(paragraph_added_hist[:i+1])\n"
   ]
  },
  {
   "cell_type": "code",
   "execution_count": null,
   "metadata": {},
   "outputs": [],
   "source": []
  }
 ],
 "metadata": {
  "kernelspec": {
   "display_name": "Python 3",
   "language": "python",
   "name": "python3"
  },
  "language_info": {
   "codemirror_mode": {
    "name": "ipython",
    "version": 3
   },
   "file_extension": ".py",
   "mimetype": "text/x-python",
   "name": "python",
   "nbconvert_exporter": "python",
   "pygments_lexer": "ipython3",
   "version": "3.6.6"
  },
  "varInspector": {
   "cols": {
    "lenName": 16,
    "lenType": 16,
    "lenVar": 40
   },
   "kernels_config": {
    "python": {
     "delete_cmd_postfix": "",
     "delete_cmd_prefix": "del ",
     "library": "var_list.py",
     "varRefreshCmd": "print(var_dic_list())"
    },
    "r": {
     "delete_cmd_postfix": ") ",
     "delete_cmd_prefix": "rm(",
     "library": "var_list.r",
     "varRefreshCmd": "cat(var_dic_list()) "
    }
   },
   "position": {
    "height": "344.667px",
    "left": "910px",
    "right": "20px",
    "top": "120px",
    "width": "350px"
   },
   "types_to_exclude": [
    "module",
    "function",
    "builtin_function_or_method",
    "instance",
    "_Feature"
   ],
   "window_display": false
  }
 },
 "nbformat": 4,
 "nbformat_minor": 2
}
