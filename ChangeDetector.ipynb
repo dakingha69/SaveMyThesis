{
 "cells": [
  {
   "cell_type": "code",
   "execution_count": 3,
   "metadata": {
    "ExecuteTime": {
     "end_time": "2019-04-12T19:15:42.187969Z",
     "start_time": "2019-04-12T19:15:40.905818Z"
    }
   },
   "outputs": [],
   "source": [
    "#  Change detect type\n",
    "# input: nPosts\n",
    "\n",
    "import difflib\n",
    "import sys\n",
    "import re\n",
    "import nltk"
   ]
  },
  {
   "cell_type": "code",
   "execution_count": 164,
   "metadata": {
    "ExecuteTime": {
     "end_time": "2019-04-12T22:06:48.059517Z",
     "start_time": "2019-04-12T22:06:48.056084Z"
    }
   },
   "outputs": [],
   "source": [
    "d1 = '\\\n",
    "# Section0\\n\\\n",
    "<del>A example sentence that is embedded. The embedding is compared withanother</del><ins>Faselbla</ins>\\n\\\n",
    "# Section1'\n",
    "\n",
    "d2 = '\\\n",
    "# Section0\\n\\\n",
    "Faselbla\\n\\\n",
    "# Section1\\n\\\n",
    "<ins>wort wort wort wort</ins>\\n'\n",
    "\n",
    "d3 = '\\\n",
    "# Section0\\n\\\n",
    "Faselbla\\n\\\n",
    "# Section1\\n\\\n",
    "wort wort wort wort<ins>wort wort</ins>\\n'\n",
    "\n",
    "d4 = '\\\n",
    "# Section0<ins>adas</ins>\\n\\\n",
    "Faselbla\\n\\\n",
    "# Section1\\n\\\n",
    "wort wort wort wort wort wort'\n",
    "\n",
    "d5 = '\\\n",
    "# Section0<ins>wort</ins>\\n\\\n",
    "Faselbla\\n\\\n",
    "# Section1\\n\\\n",
    "wort wort wort wort wort wort'\n",
    "\n",
    "d6 = '\\\n",
    "# Section0<ins>wort wort wort wort</ins>\\n\\\n",
    "Faselbla\\n\\\n",
    "# Section1\\n\\\n",
    "wort wort wort wort wort wort'\n",
    "\n",
    "d = [d1, d2, d3, d4, d5, d6]"
   ]
  },
  {
   "cell_type": "code",
   "execution_count": 165,
   "metadata": {
    "ExecuteTime": {
     "end_time": "2019-04-12T22:06:48.259337Z",
     "start_time": "2019-04-12T22:06:48.249894Z"
    }
   },
   "outputs": [],
   "source": [
    "def count_changes(difference):\n",
    "    # Takes difference from wdiffhtml as input\n",
    "    # Returns total number of changes in words\n",
    "    dif = difference.splitlines()\n",
    "    num_changes = 0\n",
    "    for line in dif:\n",
    "        if '<ins>' in line:\n",
    "            word_list = nltk.word_tokenize(\n",
    "                line[re.search('<ins>', line).end():re.search('</ins>', line).start()])\n",
    "            num_changes += len(word_list)\n",
    "        if '<del>' in line:\n",
    "            word_list = nltk.word_tokenize(\n",
    "                line[re.search('<del>', line).end():re.search('</del>', line).start()])\n",
    "            num_changes += len(word_list)\n",
    "    return num_changes"
   ]
  },
  {
   "cell_type": "code",
   "execution_count": 166,
   "metadata": {
    "ExecuteTime": {
     "end_time": "2019-04-12T22:06:48.424148Z",
     "start_time": "2019-04-12T22:06:48.419683Z"
    }
   },
   "outputs": [],
   "source": [
    "def which_paragraph_changed(text):\n",
    "    list_of_paragraphs = re.findall(r\"[^#]+\", text)\n",
    "    has_changes = [_check_if_has_diff(paragraph) for paragraph in list_of_paragraphs]\n",
    "    #print(has_changes)\n",
    "    return has_changes\n",
    "\n",
    "def _check_if_has_diff(text):\n",
    "    diff_tokens = [\"<ins>\", \"<del>\"]\n",
    "    return any(diff_token in text for diff_token in diff_tokens)"
   ]
  },
  {
   "cell_type": "code",
   "execution_count": 167,
   "metadata": {
    "ExecuteTime": {
     "end_time": "2019-04-12T22:06:49.296340Z",
     "start_time": "2019-04-12T22:06:49.281007Z"
    }
   },
   "outputs": [
    {
     "name": "stdout",
     "output_type": "stream",
     "text": [
      "POST added  13  words in § 0\n",
      "POST added  4  words in § 1\n",
      "POST added  6  words in § 1\n",
      "You should commit POST  0  as:\n",
      "Edit of §  0\n",
      "POST added  1  words in § 0\n",
      "POST added  2  words in § 0\n",
      "POST added  6  words in § 0\n",
      "You should commit POST  2  as:\n"
     ]
    },
    {
     "name": "stderr",
     "output_type": "stream",
     "text": [
      "C:\\Users\\Stefan\\Miniconda3\\envs\\py36\\lib\\site-packages\\ipykernel_launcher.py:40: DeprecationWarning: The truth value of an empty array is ambiguous. Returning False, but in future this will result in an error. Use `array.size > 0` to check that an array is not empty.\n"
     ]
    },
    {
     "ename": "ValueError",
     "evalue": "The truth value of an array with more than one element is ambiguous. Use a.any() or a.all()",
     "output_type": "error",
     "traceback": [
      "\u001b[1;31m---------------------------------------------------------------------------\u001b[0m",
      "\u001b[1;31mValueError\u001b[0m                                Traceback (most recent call last)",
      "\u001b[1;32m<ipython-input-167-e5bd071626d3>\u001b[0m in \u001b[0;36m<module>\u001b[1;34m\u001b[0m\n\u001b[0;32m     38\u001b[0m     \u001b[1;32mif\u001b[0m \u001b[0mposts_waiting\u001b[0m \u001b[1;32mand\u001b[0m \u001b[0mwords_changed\u001b[0m \u001b[1;33m>=\u001b[0m \u001b[0mparagraph_treshold\u001b[0m\u001b[1;33m:\u001b[0m \u001b[1;31m# then we made enough changes to qualify for a paragraph commit\u001b[0m\u001b[1;33m\u001b[0m\u001b[0m\n\u001b[0;32m     39\u001b[0m         \u001b[0mprint\u001b[0m\u001b[1;33m(\u001b[0m\u001b[1;34m'You should commit POST '\u001b[0m\u001b[1;33m,\u001b[0m \u001b[0mi\u001b[0m\u001b[1;33m,\u001b[0m \u001b[1;34m' as:'\u001b[0m\u001b[1;33m)\u001b[0m\u001b[1;33m\u001b[0m\u001b[0m\n\u001b[1;32m---> 40\u001b[1;33m         \u001b[1;32mif\u001b[0m \u001b[0mnp\u001b[0m\u001b[1;33m.\u001b[0m\u001b[0munique\u001b[0m\u001b[1;33m(\u001b[0m\u001b[0mscope_hist\u001b[0m\u001b[1;33m[\u001b[0m\u001b[1;33m:\u001b[0m\u001b[0mi\u001b[0m\u001b[1;33m]\u001b[0m\u001b[1;33m)\u001b[0m \u001b[1;33m>\u001b[0m \u001b[1;36m1\u001b[0m\u001b[1;33m:\u001b[0m\u001b[1;33m\u001b[0m\u001b[0m\n\u001b[0m\u001b[0;32m     41\u001b[0m             \u001b[0mprint\u001b[0m\u001b[1;33m(\u001b[0m\u001b[1;34m'small changes'\u001b[0m\u001b[1;33m)\u001b[0m\u001b[1;33m\u001b[0m\u001b[0m\n\u001b[0;32m     42\u001b[0m         \u001b[1;32melse\u001b[0m\u001b[1;33m:\u001b[0m\u001b[1;33m\u001b[0m\u001b[0m\n",
      "\u001b[1;31mValueError\u001b[0m: The truth value of an array with more than one element is ambiguous. Use a.any() or a.all()"
     ]
    }
   ],
   "source": [
    "paragraph_treshold = 5  # at least this many word changes have to be added/deleted in a paragraph to qualify for a paragraph commit\n",
    "# POSTs without changes are discarded (assumption) so I assume every POST here has actual changes\n",
    "\n",
    "scope_hist = []  # record scopes aka edited paragraphs of a POST\n",
    "count_hist = []  # record count of words added/deleted by a POST\n",
    "posts_waiting = False  # are posts queued for a commit?\n",
    "scope_switched = False  # did the scope switch since the last POST?\n",
    "for i, difference in enumerate(d):\n",
    "    # Check scopes\n",
    "    changes = which_paragraph_changed(difference)\n",
    "    scope = np.arange(len(changes))[changes] if changes is not None else []\n",
    "    scope_hist.append(scope)\n",
    "    single_scope = len(scope == 1)  # only POSTs that change a single Scope can be \"§ edit\" commits\n",
    "    if len(scope_hist) > 1:\n",
    "        scope_switched = (scope==scope_hist[-1])\n",
    "        posts_waiting = True\n",
    "    else:\n",
    "        scope_switched = False\n",
    "    \n",
    "    count_hist.append(count_changes(difference))\n",
    "    \n",
    "    # Check if § was added TODO\n",
    "    num_of_paragraphs = len(changes)\n",
    "    \n",
    "    # Do commit\n",
    "    # TODO COMMIT and delete corresponding histories\n",
    "    # find out which POSTs to commit\n",
    "    if single_scope:\n",
    "        current_scope = scope[0]\n",
    "        words_changed = 0\n",
    "        for i in reversed(range(len(scope_hist))):\n",
    "            if scope_hist[i] != current_scope:\n",
    "                break\n",
    "            else:\n",
    "                words_changed += count_hist[i]\n",
    "        print('POST added ',words_changed, ' words in §', scope[0])\n",
    "    \n",
    "    if posts_waiting and words_changed >= paragraph_treshold: # then we made enough changes to qualify for a paragraph commit\n",
    "        print('You should commit POST ', i, ' as:')\n",
    "        if np.unique(scope_hist[:i]) > 1:\n",
    "            print('small changes')\n",
    "        else:\n",
    "            print('Edit of § ', scope_hist[0][0])\n",
    "        posts_waiting = False\n",
    "        del(scope_hist[:i])\n",
    "        del(count_hist[:i])\n"
   ]
  }
 ],
 "metadata": {
  "kernelspec": {
   "display_name": "Python 3",
   "language": "python",
   "name": "python3"
  },
  "language_info": {
   "codemirror_mode": {
    "name": "ipython",
    "version": 3
   },
   "file_extension": ".py",
   "mimetype": "text/x-python",
   "name": "python",
   "nbconvert_exporter": "python",
   "pygments_lexer": "ipython3",
   "version": "3.6.6"
  },
  "varInspector": {
   "cols": {
    "lenName": 16,
    "lenType": 16,
    "lenVar": 40
   },
   "kernels_config": {
    "python": {
     "delete_cmd_postfix": "",
     "delete_cmd_prefix": "del ",
     "library": "var_list.py",
     "varRefreshCmd": "print(var_dic_list())"
    },
    "r": {
     "delete_cmd_postfix": ") ",
     "delete_cmd_prefix": "rm(",
     "library": "var_list.r",
     "varRefreshCmd": "cat(var_dic_list()) "
    }
   },
   "position": {
    "height": "344.667px",
    "left": "910px",
    "right": "20px",
    "top": "120px",
    "width": "350px"
   },
   "types_to_exclude": [
    "module",
    "function",
    "builtin_function_or_method",
    "instance",
    "_Feature"
   ],
   "window_display": false
  }
 },
 "nbformat": 4,
 "nbformat_minor": 2
}
